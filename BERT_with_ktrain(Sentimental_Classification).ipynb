{
  "nbformat": 4,
  "nbformat_minor": 0,
  "metadata": {
    "colab": {
      "name": "BERT_with_ktrain(Sentimental_Classification).ipynb",
      "provenance": [],
      "include_colab_link": true
    },
    "kernelspec": {
      "name": "python3",
      "display_name": "Python 3"
    },
    "accelerator": "GPU"
  },
  "cells": [
    {
      "cell_type": "markdown",
      "metadata": {
        "id": "view-in-github",
        "colab_type": "text"
      },
      "source": [
        "<a href=\"https://colab.research.google.com/github/mohithxoxo/NLP/blob/master/BERT_with_ktrain(Sentimental_Classification).ipynb\" target=\"_parent\"><img src=\"https://colab.research.google.com/assets/colab-badge.svg\" alt=\"Open In Colab\"/></a>"
      ]
    },
    {
      "cell_type": "markdown",
      "metadata": {
        "id": "VpEaH5ODPoYu",
        "colab_type": "text"
      },
      "source": [
        "KTrain is a wrapper for BERT technique of text classification"
      ]
    },
    {
      "cell_type": "code",
      "metadata": {
        "id": "ZtVUGFm4Omhu",
        "colab_type": "code",
        "colab": {}
      },
      "source": [
        "!pip install ktrain"
      ],
      "execution_count": null,
      "outputs": []
    },
    {
      "cell_type": "code",
      "metadata": {
        "id": "Fbcain2-Ou9v",
        "colab_type": "code",
        "colab": {}
      },
      "source": [
        "from ktrain import text \n",
        "import ktrain"
      ],
      "execution_count": null,
      "outputs": []
    },
    {
      "cell_type": "code",
      "metadata": {
        "id": "q-1OXPIfLWeI",
        "colab_type": "code",
        "colab": {}
      },
      "source": [
        "train = pd.read_csv('https://github.com/clairett/pytorch-sentiment-classification/raw/master/data/SST2/train.tsv', delimiter='\\t', header=None)\n",
        "test = pd.read_csv('https://github.com/clairett/pytorch-sentiment-classification/raw/master/data/SST2/test.tsv', delimiter='\\t', header=None)"
      ],
      "execution_count": null,
      "outputs": []
    },
    {
      "cell_type": "markdown",
      "metadata": {
        "id": "WS8IjAYwTNjE",
        "colab_type": "text"
      },
      "source": [
        "Extracting training and validation dataset from module"
      ]
    },
    {
      "cell_type": "code",
      "metadata": {
        "id": "KkkTUISjO8Ez",
        "colab_type": "code",
        "colab": {}
      },
      "source": [
        "train = train.rename(columns={0:'text',1:'label'})\n",
        "test = test.rename(columns={0:'text',1:'label'})"
      ],
      "execution_count": null,
      "outputs": []
    },
    {
      "cell_type": "code",
      "metadata": {
        "id": "hGgfYOjDO9v1",
        "colab_type": "code",
        "colab": {
          "base_uri": "https://localhost:8080/",
          "height": 138
        },
        "outputId": "54b37eb3-bed4-4371-b273-6e7b4176d176"
      },
      "source": [
        "trn, val, preproc = text.texts_from_df(train,'text', label_columns=['label'], val_df=test,preprocess_mode='bert')"
      ],
      "execution_count": null,
      "outputs": [
        {
          "output_type": "stream",
          "text": [
            "preprocessing train...\n",
            "language: en\n"
          ],
          "name": "stdout"
        },
        {
          "output_type": "display_data",
          "data": {
            "text/html": [
              "done."
            ],
            "text/plain": [
              "<IPython.core.display.HTML object>"
            ]
          },
          "metadata": {
            "tags": []
          }
        },
        {
          "output_type": "stream",
          "text": [
            "Is Multi-Label? False\n",
            "preprocessing test...\n",
            "language: en\n"
          ],
          "name": "stdout"
        },
        {
          "output_type": "display_data",
          "data": {
            "text/html": [
              "done."
            ],
            "text/plain": [
              "<IPython.core.display.HTML object>"
            ]
          },
          "metadata": {
            "tags": []
          }
        }
      ]
    },
    {
      "cell_type": "markdown",
      "metadata": {
        "id": "FtwMbB1ZTTVC",
        "colab_type": "text"
      },
      "source": [
        "Fetching the model and learner instance"
      ]
    },
    {
      "cell_type": "code",
      "metadata": {
        "id": "RAePKfoDPGMs",
        "colab_type": "code",
        "colab": {
          "base_uri": "https://localhost:8080/",
          "height": 70
        },
        "outputId": "1749875f-4706-44b2-d8ba-d5b803295787"
      },
      "source": [
        "model = text.text_classifier('bert', trn, preproc=preproc)\n",
        "learner = ktrain.get_learner(model,train_data=trn, val_data=val, batch_size=6)"
      ],
      "execution_count": null,
      "outputs": [
        {
          "output_type": "stream",
          "text": [
            "Is Multi-Label? False\n",
            "maxlen is 400\n",
            "done.\n"
          ],
          "name": "stdout"
        }
      ]
    },
    {
      "cell_type": "markdown",
      "metadata": {
        "id": "vhU6scaOTYIq",
        "colab_type": "text"
      },
      "source": [
        "Start to train the model"
      ]
    },
    {
      "cell_type": "code",
      "metadata": {
        "id": "fmeXdrQBPJls",
        "colab_type": "code",
        "colab": {
          "base_uri": "https://localhost:8080/",
          "height": 265
        },
        "outputId": "1edd8799-ebfd-4b3f-8195-5e66a85712c9"
      },
      "source": [
        "learner.fit_onecycle(2e-5, 5)"
      ],
      "execution_count": null,
      "outputs": [
        {
          "output_type": "stream",
          "text": [
            "\n",
            "\n",
            "begin training using onecycle policy with max lr of 2e-05...\n",
            "Epoch 1/5\n",
            "1154/1154 [==============================] - 1690s 1s/step - loss: 0.4045 - accuracy: 0.8082 - val_loss: 0.2369 - val_accuracy: 0.9066\n",
            "Epoch 2/5\n",
            "1154/1154 [==============================] - 1688s 1s/step - loss: 0.2164 - accuracy: 0.9160 - val_loss: 0.2657 - val_accuracy: 0.8929\n",
            "Epoch 3/5\n",
            "1154/1154 [==============================] - 1687s 1s/step - loss: 0.1092 - accuracy: 0.9630 - val_loss: 0.2289 - val_accuracy: 0.9176\n",
            "Epoch 4/5\n",
            "1154/1154 [==============================] - 1677s 1s/step - loss: 0.0393 - accuracy: 0.9870 - val_loss: 0.3188 - val_accuracy: 0.9187\n",
            "Epoch 5/5\n",
            "1154/1154 [==============================] - 1682s 1s/step - loss: 0.0101 - accuracy: 0.9970 - val_loss: 0.3752 - val_accuracy: 0.9121\n"
          ],
          "name": "stdout"
        },
        {
          "output_type": "execute_result",
          "data": {
            "text/plain": [
              "<tensorflow.python.keras.callbacks.History at 0x7f550eb33898>"
            ]
          },
          "metadata": {
            "tags": []
          },
          "execution_count": 72
        }
      ]
    },
    {
      "cell_type": "code",
      "metadata": {
        "id": "Cw41lolXSykV",
        "colab_type": "code",
        "colab": {
          "base_uri": "https://localhost:8080/",
          "height": 34
        },
        "outputId": "30997cc4-5e10-45c2-eef8-9237470025f5"
      },
      "source": [
        "predictor = ktrain.get_predictor(learner.model, preproc)\n",
        "predictor.get_classes()"
      ],
      "execution_count": null,
      "outputs": [
        {
          "output_type": "execute_result",
          "data": {
            "text/plain": [
              "['not_label', 'label']"
            ]
          },
          "metadata": {
            "tags": []
          },
          "execution_count": 90
        }
      ]
    },
    {
      "cell_type": "code",
      "metadata": {
        "id": "YSgR9jNe4m_s",
        "colab_type": "code",
        "colab": {
          "base_uri": "https://localhost:8080/",
          "height": 35
        },
        "outputId": "804384ae-3ecc-42f2-9a98-4ab3c5b4fecd"
      },
      "source": [
        "#Positive\n",
        "predictor.predict('happy')"
      ],
      "execution_count": null,
      "outputs": [
        {
          "output_type": "display_data",
          "data": {
            "text/html": [
              ""
            ],
            "text/plain": [
              "<IPython.core.display.HTML object>"
            ]
          },
          "metadata": {
            "tags": []
          }
        },
        {
          "output_type": "execute_result",
          "data": {
            "application/vnd.google.colaboratory.intrinsic+json": {
              "type": "string"
            },
            "text/plain": [
              "'label'"
            ]
          },
          "metadata": {
            "tags": []
          },
          "execution_count": 88
        }
      ]
    },
    {
      "cell_type": "code",
      "metadata": {
        "id": "btTSxlDz4tig",
        "colab_type": "code",
        "colab": {
          "base_uri": "https://localhost:8080/",
          "height": 35
        },
        "outputId": "8cd6a895-f418-47c1-c779-ecca328054d5"
      },
      "source": [
        "#Negative\n",
        "predictor.predict('sad')"
      ],
      "execution_count": null,
      "outputs": [
        {
          "output_type": "display_data",
          "data": {
            "text/html": [
              ""
            ],
            "text/plain": [
              "<IPython.core.display.HTML object>"
            ]
          },
          "metadata": {
            "tags": []
          }
        },
        {
          "output_type": "execute_result",
          "data": {
            "application/vnd.google.colaboratory.intrinsic+json": {
              "type": "string"
            },
            "text/plain": [
              "'not_label'"
            ]
          },
          "metadata": {
            "tags": []
          },
          "execution_count": 89
        }
      ]
    },
    {
      "cell_type": "code",
      "metadata": {
        "id": "DTHcXgK954Mo",
        "colab_type": "code",
        "colab": {}
      },
      "source": [
        "# let's save the predictor for later use\n",
        "predictor.save('/content/my_model')\n",
        "# reload the predictor\n",
        "reloaded_predictor = ktrain.load_predictor('/content/my_model')\n",
        "# make a prediction on the same document to verify it still works\n",
        "reloaded_predictor.predict('sad')"
      ],
      "execution_count": null,
      "outputs": []
    }
  ]
}