{
  "nbformat": 4,
  "nbformat_minor": 0,
  "metadata": {
    "kernelspec": {
      "display_name": "Python 3",
      "language": "python",
      "name": "python3"
    },
    "language_info": {
      "codemirror_mode": {
        "name": "ipython",
        "version": 3
      },
      "file_extension": ".py",
      "mimetype": "text/x-python",
      "name": "python",
      "nbconvert_exporter": "python",
      "pygments_lexer": "ipython3",
      "version": "3.7.6"
    },
    "papermill": {
      "duration": 5731.83436,
      "end_time": "2020-09-19T03:02:09.000427",
      "environment_variables": {},
      "exception": null,
      "input_path": "__notebook__.ipynb",
      "output_path": "__notebook__.ipynb",
      "parameters": {},
      "start_time": "2020-09-19T01:26:37.166067",
      "version": "2.1.0"
    },
    "colab": {
      "name": "nlp_with_rnn.ipynb",
      "provenance": [],
      "include_colab_link": true
    }
  },
  "cells": [
    {
      "cell_type": "markdown",
      "metadata": {
        "id": "view-in-github",
        "colab_type": "text"
      },
      "source": [
        "<a href=\"https://colab.research.google.com/github/mohithxoxo/NLP/blob/master/nlp_with_Bidirectional.ipynb\" target=\"_parent\"><img src=\"https://colab.research.google.com/assets/colab-badge.svg\" alt=\"Open In Colab\"/></a>"
      ]
    },
    {
      "cell_type": "markdown",
      "metadata": {
        "papermill": {
          "duration": 0.014067,
          "end_time": "2020-09-19T01:26:41.220851",
          "exception": false,
          "start_time": "2020-09-19T01:26:41.206784",
          "status": "completed"
        },
        "tags": [],
        "id": "X75WvZPQstRU",
        "colab_type": "text"
      },
      "source": [
        "# Importing Libraries"
      ]
    },
    {
      "cell_type": "code",
      "metadata": {
        "_cell_guid": "b1076dfc-b9ad-4769-8c92-a6c4dae69d19",
        "_uuid": "8f2839f25d086af736a60e9eeb907d3b93b6e0e5",
        "execution": {
          "iopub.execute_input": "2020-09-19T01:26:41.279889Z",
          "iopub.status.busy": "2020-09-19T01:26:41.279123Z",
          "iopub.status.idle": "2020-09-19T01:26:47.100049Z",
          "shell.execute_reply": "2020-09-19T01:26:47.101168Z"
        },
        "papermill": {
          "duration": 5.841509,
          "end_time": "2020-09-19T01:26:47.101531",
          "exception": false,
          "start_time": "2020-09-19T01:26:41.260022",
          "status": "completed"
        },
        "tags": [],
        "id": "dXkIkiKAstRa",
        "colab_type": "code",
        "colab": {}
      },
      "source": [
        "import numpy as np\n",
        "import pandas as pd\n",
        "import tensorflow as tf \n",
        "import tensorflow_datasets as tfds \n",
        "import os"
      ],
      "execution_count": 1,
      "outputs": []
    },
    {
      "cell_type": "code",
      "metadata": {
        "id": "aN_YMri2xC9_",
        "colab_type": "code",
        "colab": {}
      },
      "source": [
        "real = pd.read_csv('https://raw.githubusercontent.com/KaiDMML/FakeNewsNet/master/dataset/politifact_real.csv')\n",
        "fake = pd.read_csv('https://raw.githubusercontent.com/KaiDMML/FakeNewsNet/master/dataset/politifact_fake.csv')"
      ],
      "execution_count": null,
      "outputs": []
    },
    {
      "cell_type": "markdown",
      "metadata": {
        "papermill": {
          "duration": 0.057071,
          "end_time": "2020-09-19T01:26:47.177509",
          "exception": false,
          "start_time": "2020-09-19T01:26:47.120438",
          "status": "completed"
        },
        "tags": [],
        "id": "AwOmfhAYstRp",
        "colab_type": "text"
      },
      "source": [
        "# Pre-Processing and Cleaning"
      ]
    },
    {
      "cell_type": "code",
      "metadata": {
        "id": "aXo7M74HvPqr",
        "colab_type": "code",
        "colab": {}
      },
      "source": [
        "fake = fake.drop(columns=['id','news_url','tweet_ids'])\n",
        "real = real.drop(columns=['id','news_url','tweet_ids'])\n",
        "fake['label'] = 1\n",
        "real['label'] = 0\n",
        "dataset = real.append(fake, ignore_index = True)"
      ],
      "execution_count": 19,
      "outputs": []
    },
    {
      "cell_type": "markdown",
      "metadata": {
        "papermill": {
          "duration": 0.013641,
          "end_time": "2020-09-19T01:26:48.553435",
          "exception": false,
          "start_time": "2020-09-19T01:26:48.539794",
          "status": "completed"
        },
        "tags": [],
        "id": "B6s3D9ZgstR3",
        "colab_type": "text"
      },
      "source": [
        "# Encoding the Corpus"
      ]
    },
    {
      "cell_type": "code",
      "metadata": {
        "execution": {
          "iopub.execute_input": "2020-09-19T01:26:48.654603Z",
          "iopub.status.busy": "2020-09-19T01:26:48.633567Z",
          "iopub.status.idle": "2020-09-19T01:36:43.560579Z",
          "shell.execute_reply": "2020-09-19T01:36:43.560031Z"
        },
        "papermill": {
          "duration": 594.965715,
          "end_time": "2020-09-19T01:36:43.560702",
          "exception": false,
          "start_time": "2020-09-19T01:26:48.594987",
          "status": "completed"
        },
        "tags": [],
        "id": "9E9AyzwAstR7",
        "colab_type": "code",
        "colab": {}
      },
      "source": [
        "vocab_size = 10000\n",
        "encoder = tfds.features.text.SubwordTextEncoder.build_from_corpus(dataset[\"title\"], vocab_size)"
      ],
      "execution_count": 21,
      "outputs": []
    },
    {
      "cell_type": "markdown",
      "metadata": {
        "papermill": {
          "duration": 0.013713,
          "end_time": "2020-09-19T01:36:43.588632",
          "exception": false,
          "start_time": "2020-09-19T01:36:43.574919",
          "status": "completed"
        },
        "tags": [],
        "id": "AxJhZUrFstSA",
        "colab_type": "text"
      },
      "source": [
        "Here, we create a function to encode the DataFrame by looping through all the sentences in the corpus, with \"**post**\" padding using the [**tf.keras.preprocessing.sequence.pad_sequences()**](https://www.tensorflow.org/api_docs/python/tf/keras/preprocessing/sequence/pad_sequences?hl=en) function."
      ]
    },
    {
      "cell_type": "code",
      "metadata": {
        "execution": {
          "iopub.execute_input": "2020-09-19T01:36:43.642612Z",
          "iopub.status.busy": "2020-09-19T01:36:43.629160Z",
          "iopub.status.idle": "2020-09-19T01:38:05.009691Z",
          "shell.execute_reply": "2020-09-19T01:38:05.009029Z"
        },
        "papermill": {
          "duration": 81.407403,
          "end_time": "2020-09-19T01:38:05.009816",
          "exception": false,
          "start_time": "2020-09-19T01:36:43.602413",
          "status": "completed"
        },
        "tags": [],
        "id": "72hTRKQistSB",
        "colab_type": "code",
        "colab": {}
      },
      "source": [
        "def enc(dataframe):\n",
        "    tokenized = []\n",
        "    for sentence in dataframe[\"title\"].values:\n",
        "        tokenized.append(encoder.encode(sentence))\n",
        "    out = tf.keras.preprocessing.sequence.pad_sequences(tokenized, padding = \"post\")\n",
        "    return out\n",
        "x = enc(dataset)"
      ],
      "execution_count": 23,
      "outputs": []
    },
    {
      "cell_type": "code",
      "metadata": {
        "id": "X0wvQ0dUxVH5",
        "colab_type": "code",
        "colab": {
          "base_uri": "https://localhost:8080/",
          "height": 141
        },
        "outputId": "7f0a2850-3090-48ab-9f03-d78a6dc9515b"
      },
      "source": [
        "x"
      ],
      "execution_count": 24,
      "outputs": [
        {
          "output_type": "execute_result",
          "data": {
            "text/plain": [
              "array([[ 111, 3752,    4, ...,    0,    0,    0],\n",
              "       [ 496,    9, 3757, ...,    0,    0,    0],\n",
              "       [ 158,  771, 1628, ...,    0,    0,    0],\n",
              "       ...,\n",
              "       [3877, 4236, 3876, ...,    0,    0,    0],\n",
              "       [ 181,  223,  303, ...,    0,    0,    0],\n",
              "       [ 699,  535,    0, ...,    0,    0,    0]], dtype=int32)"
            ]
          },
          "metadata": {
            "tags": []
          },
          "execution_count": 24
        }
      ]
    },
    {
      "cell_type": "code",
      "metadata": {
        "execution": {
          "iopub.execute_input": "2020-09-19T01:38:05.073087Z",
          "iopub.status.busy": "2020-09-19T01:38:05.072346Z",
          "iopub.status.idle": "2020-09-19T01:38:05.078402Z",
          "shell.execute_reply": "2020-09-19T01:38:05.079085Z"
        },
        "papermill": {
          "duration": 0.0265,
          "end_time": "2020-09-19T01:38:05.079211",
          "exception": false,
          "start_time": "2020-09-19T01:38:05.052711",
          "status": "completed"
        },
        "tags": [],
        "id": "TiR9KQUxstSJ",
        "colab_type": "code",
        "colab": {
          "base_uri": "https://localhost:8080/",
          "height": 230
        },
        "outputId": "9a1d4403-561a-4bc9-ee9e-5b420cd78d89"
      },
      "source": [
        "y = dataset[\"label\"]\n",
        "print(y)"
      ],
      "execution_count": 25,
      "outputs": [
        {
          "output_type": "stream",
          "text": [
            "0       0\n",
            "1       0\n",
            "2       0\n",
            "3       0\n",
            "4       0\n",
            "       ..\n",
            "1051    1\n",
            "1052    1\n",
            "1053    1\n",
            "1054    1\n",
            "1055    1\n",
            "Name: label, Length: 1056, dtype: int64\n"
          ],
          "name": "stdout"
        }
      ]
    },
    {
      "cell_type": "code",
      "metadata": {
        "execution": {
          "iopub.execute_input": "2020-09-19T01:38:05.176243Z",
          "iopub.status.busy": "2020-09-19T01:38:05.175627Z",
          "iopub.status.idle": "2020-09-19T01:38:08.833552Z",
          "shell.execute_reply": "2020-09-19T01:38:08.834339Z"
        },
        "papermill": {
          "duration": 3.682791,
          "end_time": "2020-09-19T01:38:08.834546",
          "exception": false,
          "start_time": "2020-09-19T01:38:05.151755",
          "status": "completed"
        },
        "tags": [],
        "id": "aO4vsT--stST",
        "colab_type": "code",
        "colab": {}
      },
      "source": [
        "# Model Definition\n",
        "model = tf.keras.Sequential([\n",
        "    tf.keras.layers.Embedding(encoder.vocab_size, 64), # Embedding Layer using the vocab-size from encoder\n",
        "    tf.keras.layers.Bidirectional(tf.keras.layers.LSTM(64,  return_sequences=True)), # Create the first Bidirectional layer with 64 LSTM units\n",
        "    tf.keras.layers.Bidirectional(tf.keras.layers.LSTM(32)), # Second Bidirectional layer witth 32 LSTM units\n",
        "    tf.keras.layers.Dense(64, activation='relu'), # A Dense Layer with 64 units\n",
        "    tf.keras.layers.Dropout(0.5), # 50% Dropout\n",
        "    tf.keras.layers.Dense(1) # Final Dense layer with a single unit\n",
        "])\n",
        "\n",
        "model.compile(optimizer='adam', loss='binary_crossentropy', metrics= ['acc']) # Compiling the Model"
      ],
      "execution_count": 26,
      "outputs": []
    },
    {
      "cell_type": "markdown",
      "metadata": {
        "papermill": {
          "duration": 0.020672,
          "end_time": "2020-09-19T01:38:08.876959",
          "exception": false,
          "start_time": "2020-09-19T01:38:08.856287",
          "status": "completed"
        },
        "tags": [],
        "id": "SuG4sNZostSY",
        "colab_type": "text"
      },
      "source": [
        "# Training the Model"
      ]
    },
    {
      "cell_type": "code",
      "metadata": {
        "execution": {
          "iopub.execute_input": "2020-09-19T01:38:08.966534Z",
          "iopub.status.busy": "2020-09-19T01:38:08.965917Z",
          "iopub.status.idle": "2020-09-19T03:01:54.637253Z",
          "shell.execute_reply": "2020-09-19T03:01:54.636337Z"
        },
        "papermill": {
          "duration": 5025.697485,
          "end_time": "2020-09-19T03:01:54.637395",
          "exception": false,
          "start_time": "2020-09-19T01:38:08.939910",
          "status": "completed"
        },
        "tags": [],
        "id": "IPda2wGpstSZ",
        "colab_type": "code",
        "colab": {
          "base_uri": "https://localhost:8080/",
          "height": 727
        },
        "outputId": "0ad9bab3-faca-4ba9-96f4-473e61cbf470"
      },
      "source": [
        "history = model.fit(x,y, epochs = 20)"
      ],
      "execution_count": 28,
      "outputs": [
        {
          "output_type": "stream",
          "text": [
            "Epoch 1/20\n",
            "33/33 [==============================] - 3s 76ms/step - loss: 0.4881 - acc: 0.8958\n",
            "Epoch 2/20\n",
            "33/33 [==============================] - 3s 79ms/step - loss: 0.2001 - acc: 0.9640\n",
            "Epoch 3/20\n",
            "33/33 [==============================] - 3s 77ms/step - loss: 0.1026 - acc: 0.9782\n",
            "Epoch 4/20\n",
            "33/33 [==============================] - 3s 78ms/step - loss: 0.0508 - acc: 0.9915\n",
            "Epoch 5/20\n",
            "33/33 [==============================] - 3s 76ms/step - loss: 0.0449 - acc: 0.9886\n",
            "Epoch 6/20\n",
            "33/33 [==============================] - 3s 79ms/step - loss: 0.1241 - acc: 0.9811\n",
            "Epoch 7/20\n",
            "33/33 [==============================] - 3s 78ms/step - loss: 0.0421 - acc: 0.9962\n",
            "Epoch 8/20\n",
            "33/33 [==============================] - 2s 75ms/step - loss: 0.0339 - acc: 0.9962\n",
            "Epoch 9/20\n",
            "33/33 [==============================] - 3s 78ms/step - loss: 0.0309 - acc: 0.9981\n",
            "Epoch 10/20\n",
            "33/33 [==============================] - 3s 77ms/step - loss: 0.0291 - acc: 0.9981\n",
            "Epoch 11/20\n",
            "33/33 [==============================] - 3s 77ms/step - loss: 0.0299 - acc: 0.9981\n",
            "Epoch 12/20\n",
            "33/33 [==============================] - 2s 75ms/step - loss: 0.0294 - acc: 0.9981\n",
            "Epoch 13/20\n",
            "33/33 [==============================] - 3s 77ms/step - loss: 0.0290 - acc: 0.9981\n",
            "Epoch 14/20\n",
            "33/33 [==============================] - 3s 77ms/step - loss: 0.0292 - acc: 0.9981\n",
            "Epoch 15/20\n",
            "33/33 [==============================] - 3s 78ms/step - loss: 0.0289 - acc: 0.9981\n",
            "Epoch 16/20\n",
            "33/33 [==============================] - 3s 76ms/step - loss: 0.0290 - acc: 0.9981\n",
            "Epoch 17/20\n",
            "33/33 [==============================] - 2s 75ms/step - loss: 0.0294 - acc: 0.9981\n",
            "Epoch 18/20\n",
            "33/33 [==============================] - 3s 76ms/step - loss: 0.0292 - acc: 0.9981\n",
            "Epoch 19/20\n",
            "33/33 [==============================] - 3s 79ms/step - loss: 0.0291 - acc: 0.9981\n",
            "Epoch 20/20\n",
            "33/33 [==============================] - 3s 78ms/step - loss: 0.0292 - acc: 0.9981\n"
          ],
          "name": "stdout"
        }
      ]
    },
    {
      "cell_type": "markdown",
      "metadata": {
        "papermill": {
          "duration": 0.9772,
          "end_time": "2020-09-19T03:01:56.799193",
          "exception": false,
          "start_time": "2020-09-19T03:01:55.821993",
          "status": "completed"
        },
        "tags": [],
        "id": "Cvs51Yz6stSe",
        "colab_type": "text"
      },
      "source": [
        "# Predicting with the Model"
      ]
    },
    {
      "cell_type": "markdown",
      "metadata": {
        "papermill": {
          "duration": 0.953457,
          "end_time": "2020-09-19T03:01:58.710773",
          "exception": false,
          "start_time": "2020-09-19T03:01:57.757316",
          "status": "completed"
        },
        "tags": [],
        "id": "_trHU7irstSf",
        "colab_type": "text"
      },
      "source": [
        "Here, we write 2 functions to predict using the model. A pad_to_size function to pad our vectors and a sample_predict function to encode a string and predict using the model."
      ]
    },
    {
      "cell_type": "code",
      "metadata": {
        "execution": {
          "iopub.execute_input": "2020-09-19T03:02:00.624044Z",
          "iopub.status.busy": "2020-09-19T03:02:00.623104Z",
          "iopub.status.idle": "2020-09-19T03:02:01.870965Z",
          "shell.execute_reply": "2020-09-19T03:02:01.871659Z"
        },
        "papermill": {
          "duration": 2.207705,
          "end_time": "2020-09-19T03:02:01.871881",
          "exception": false,
          "start_time": "2020-09-19T03:01:59.664176",
          "status": "completed"
        },
        "tags": [],
        "id": "WzMkQjy0stSg",
        "colab_type": "code",
        "colab": {
          "base_uri": "https://localhost:8080/",
          "height": 34
        },
        "outputId": "61ad82e6-e4cb-4d2b-d7f1-b3a15efde0dc"
      },
      "source": [
        "def pad_to_size(vec, size):\n",
        "  zero = [0] * (size - len(vec))\n",
        "  vec.extend(zeros)\n",
        "  return vec\n",
        "\n",
        "def sample_predict(sample_pred_text, pad):\n",
        "  encoded_sample_pred_text = encoder.encode(sample_pred_text)\n",
        "\n",
        "  if pad:\n",
        "    encoded_sample_pred_text = pad_to_size(encoded_sample_pred_text, 64)\n",
        "  encoded_sample_pred_text = tf.cast(encoded_sample_pred_text, tf.float32)\n",
        "  predictions = model.predict(tf.expand_dims(encoded_sample_pred_text, 0))\n",
        "\n",
        "  return (predictions)\n",
        "\n",
        "sample_pred_text = ('ELECTORAL COLLEGE ELECTOR COMMITS SUICIDE TO AVOID VOTING FOR DONALD TRUMP') #fake news\n",
        "predictions = sample_predict(sample_pred_text, pad=False)\n",
        "if predictions > 0 :\n",
        "  print('Fake News')\n",
        "else :\n",
        "  print('Real News')"
      ],
      "execution_count": 44,
      "outputs": [
        {
          "output_type": "stream",
          "text": [
            "Fake News\n"
          ],
          "name": "stdout"
        }
      ]
    },
    {
      "cell_type": "markdown",
      "metadata": {
        "papermill": {
          "duration": 0.99379,
          "end_time": "2020-09-19T03:02:03.826610",
          "exception": false,
          "start_time": "2020-09-19T03:02:02.832820",
          "status": "completed"
        },
        "tags": [],
        "id": "ow0b6OQ1stSk",
        "colab_type": "text"
      },
      "source": [
        " # Download the Model Weights for Yourself"
      ]
    },
    {
      "cell_type": "code",
      "metadata": {
        "execution": {
          "iopub.execute_input": "2020-09-19T03:02:05.783670Z",
          "iopub.status.busy": "2020-09-19T03:02:05.782776Z",
          "iopub.status.idle": "2020-09-19T03:02:05.848123Z",
          "shell.execute_reply": "2020-09-19T03:02:05.848597Z"
        },
        "papermill": {
          "duration": 1.040783,
          "end_time": "2020-09-19T03:02:05.848742",
          "exception": false,
          "start_time": "2020-09-19T03:02:04.807959",
          "status": "completed"
        },
        "tags": [],
        "id": "o2ZWXmy7stSl",
        "colab_type": "code",
        "colab": {},
        "outputId": "227ed0fd-e353-4ffd-d205-5d7b91fe6910"
      },
      "source": [
        "model.save('my_model.h5') \n",
        "import os\n",
        "from IPython.display import FileLink\n",
        "FileLink(r'my_model.h5')"
      ],
      "execution_count": null,
      "outputs": [
        {
          "output_type": "execute_result",
          "data": {
            "text/html": [
              "<a href='my_model.h5' target='_blank'>my_model.h5</a><br>"
            ],
            "text/plain": [
              "/kaggle/working/my_model.h5"
            ]
          },
          "metadata": {
            "tags": []
          },
          "execution_count": 9
        }
      ]
    }
  ]
}